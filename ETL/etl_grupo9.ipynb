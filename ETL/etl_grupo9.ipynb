{
 "cells": [
  {
   "cell_type": "code",
   "execution_count": 1,
   "id": "6fcf496b",
   "metadata": {},
   "outputs": [
    {
     "name": "stderr",
     "output_type": "stream",
     "text": [
      "/Users/carolinacastellano/anaconda3/lib/python3.11/site-packages/pandas/core/arrays/masked.py:60: UserWarning: Pandas requires version '1.3.6' or newer of 'bottleneck' (version '1.3.5' currently installed).\n",
      "  from pandas.core import (\n"
     ]
    }
   ],
   "source": [
    "import pandas as pd\n",
    "import matplotlib.pyplot as plt\n",
    "import seaborn as sns\n",
    "import numpy as np\n",
    "from sklearn.ensemble import IsolationForest\n",
    "from sklearn.preprocessing import StandardScaler\n",
    "from sklearn.model_selection import train_test_split\n",
    "from sklearn.metrics import accuracy_score, precision_score, recall_score, f1_score"
   ]
  },
  {
   "cell_type": "markdown",
   "id": "a2bf3953",
   "metadata": {},
   "source": [
    "## Extracción"
   ]
  },
  {
   "cell_type": "code",
   "execution_count": 2,
   "id": "6cf0e654",
   "metadata": {},
   "outputs": [
    {
     "name": "stdout",
     "output_type": "stream",
     "text": [
      "Agregando datos de la hoja: CLIENTE1\n",
      "Agregando datos de la hoja: CLIENTE2\n",
      "Agregando datos de la hoja: CLIENTE3\n",
      "Agregando datos de la hoja: CLIENTE4\n",
      "Agregando datos de la hoja: CLIENTE5\n",
      "Agregando datos de la hoja: CLIENTE6\n",
      "Agregando datos de la hoja: CLIENTE7\n",
      "Agregando datos de la hoja: CLIENTE8\n",
      "Agregando datos de la hoja: CLIENTE9\n",
      "Agregando datos de la hoja: CLIENTE10\n",
      "Agregando datos de la hoja: CLIENTE11\n",
      "Agregando datos de la hoja: CLIENTE12\n",
      "Agregando datos de la hoja: CLIENTE13\n",
      "Agregando datos de la hoja: CLIENTE14\n",
      "Agregando datos de la hoja: CLIENTE15\n",
      "Agregando datos de la hoja: CLIENTE16\n",
      "Agregando datos de la hoja: CLIENTE17\n",
      "Agregando datos de la hoja: CLIENTE18\n",
      "Agregando datos de la hoja: CLIENTE19\n",
      "Agregando datos de la hoja: CLIENTE20\n",
      "                     Fecha    Presion  Temperatura     Volumen id_cliente\n",
      "0      2019-01-14 00:00:00  17.732563    28.209354   20.969751   CLIENTE1\n",
      "1      2019-01-14 01:00:00  17.747776    28.518614   17.845739   CLIENTE1\n",
      "2      2019-01-14 02:00:00  17.758916    28.230191   20.975914   CLIENTE1\n",
      "3      2019-01-14 03:00:00  17.727940    27.811509   20.592299   CLIENTE1\n",
      "4      2019-01-14 04:00:00  17.746484    27.795293   21.690626   CLIENTE1\n",
      "...                    ...        ...          ...         ...        ...\n",
      "847955 2023-12-31 19:00:00  15.751139    27.460652  204.457549  CLIENTE20\n",
      "847956 2023-12-31 20:00:00  15.614858    27.010382  186.512096  CLIENTE20\n",
      "847957 2023-12-31 21:00:00  15.598944    26.709100  204.456461  CLIENTE20\n",
      "847958 2023-12-31 22:00:00  15.730040    27.266090  203.695596  CLIENTE20\n",
      "847959 2023-12-31 23:00:00  15.624457    27.481288  201.534548  CLIENTE20\n",
      "\n",
      "[847960 rows x 5 columns]\n"
     ]
    }
   ],
   "source": [
    "# Lectura del archivo de datos\n",
    "archivo = 'inicial.xlsx'\n",
    "# Como el archivo viene con una hoja por cliente, se lee y concatena en una sola\n",
    "hojas = pd.read_excel(archivo, sheet_name=None)\n",
    "dataframes = []\n",
    "for nombre_hoja, df in hojas.items():\n",
    "    if not df.empty:\n",
    "        df['id_cliente'] = nombre_hoja\n",
    "        print(f\"Agregando datos de la hoja: {nombre_hoja}\")\n",
    "        dataframes.append(df)\n",
    "    else:\n",
    "        print(f\"(La hoja '{nombre_hoja}' está vacía)\")\n",
    "\n",
    "df_final = pd.concat(dataframes, ignore_index=True)\n",
    "print(df_final)"
   ]
  },
  {
   "cell_type": "code",
   "execution_count": 3,
   "id": "91134285",
   "metadata": {
    "scrolled": false
   },
   "outputs": [
    {
     "name": "stdout",
     "output_type": "stream",
     "text": [
      "                               Fecha        Presion    Temperatura  \\\n",
      "count                         847960  847960.000000  847960.000000   \n",
      "mean   2021-07-08 22:08:19.659418112      16.072957      25.198239   \n",
      "min              2019-01-14 00:00:00       2.934873      -5.257899   \n",
      "25%              2020-04-13 23:00:00      17.097350      22.693027   \n",
      "50%              2021-07-07 06:00:00      17.570449      25.379859   \n",
      "75%              2022-10-06 02:15:00      17.694254      27.886244   \n",
      "max              2023-12-31 23:00:00      20.307852      50.019853   \n",
      "std                              NaN       4.186408       3.790497   \n",
      "\n",
      "             Volumen  \n",
      "count  847960.000000  \n",
      "mean       62.328206  \n",
      "min         0.000000  \n",
      "25%         0.000000  \n",
      "50%        21.773567  \n",
      "75%        99.319649  \n",
      "max       577.413425  \n",
      "std        80.498112  \n"
     ]
    }
   ],
   "source": [
    "# Ver resumen estadístico\n",
    "print(df_final.describe())\n",
    "\n",
    "# Filtramos valores fuera de rangos normales\n",
    "df_final = df_final[df_final['Temperatura'] < 100] "
   ]
  },
  {
   "cell_type": "code",
   "execution_count": 4,
   "id": "887b8011",
   "metadata": {},
   "outputs": [
    {
     "name": "stdout",
     "output_type": "stream",
     "text": [
      "Fecha          0\n",
      "Presion        0\n",
      "Temperatura    0\n",
      "Volumen        0\n",
      "id_cliente     0\n",
      "dtype: int64\n"
     ]
    }
   ],
   "source": [
    "# Verificamos valores nulos/faltantes\n",
    "print(df_final.isnull().sum())"
   ]
  },
  {
   "cell_type": "markdown",
   "id": "9ba136b1",
   "metadata": {},
   "source": [
    "## Transformación"
   ]
  },
  {
   "cell_type": "code",
   "execution_count": 5,
   "id": "49d0d7fb",
   "metadata": {},
   "outputs": [],
   "source": [
    "def transformar_datos(df):\n",
    "    # Aseguramos que la columna \"Fecha\" sea tipo datetime\n",
    "    df_final['Fecha'] = pd.to_datetime(df_final['Fecha'])\n",
    "\n",
    "    # Verificamos y eliminamos nulos si los hay\n",
    "    df_final = df_final.dropna(subset=['Presion', 'Volumen', 'Temperatura'])\n",
    "\n",
    "    return df_final"
   ]
  },
  {
   "cell_type": "markdown",
   "id": "30ebef27",
   "metadata": {},
   "source": [
    "## Carga"
   ]
  },
  {
   "cell_type": "code",
   "execution_count": 6,
   "id": "d094ccc1",
   "metadata": {},
   "outputs": [],
   "source": [
    "df_final.to_csv('consolidated_data.csv', index=False)"
   ]
  },
  {
   "cell_type": "code",
   "execution_count": null,
   "id": "77c6ff32",
   "metadata": {},
   "outputs": [],
   "source": []
  }
 ],
 "metadata": {
  "kernelspec": {
   "display_name": "Python 3 (ipykernel)",
   "language": "python",
   "name": "python3"
  },
  "language_info": {
   "codemirror_mode": {
    "name": "ipython",
    "version": 3
   },
   "file_extension": ".py",
   "mimetype": "text/x-python",
   "name": "python",
   "nbconvert_exporter": "python",
   "pygments_lexer": "ipython3",
   "version": "3.11.5"
  }
 },
 "nbformat": 4,
 "nbformat_minor": 5
}
